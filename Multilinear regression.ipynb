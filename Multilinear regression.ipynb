{
 "cells": [
  {
   "cell_type": "code",
   "execution_count": 2,
   "metadata": {},
   "outputs": [],
   "source": [
    "import pandas as pd  \n",
    "import numpy as np  \n",
    "import matplotlib.pyplot as plt  \n",
    "import seaborn as seabornInstance \n",
    "from sklearn.model_selection import train_test_split \n",
    "from sklearn.linear_model import LinearRegression\n",
    "from sklearn import metrics\n",
    "%matplotlib inline"
   ]
  },
  {
   "cell_type": "code",
   "execution_count": 3,
   "metadata": {},
   "outputs": [
    {
     "name": "stderr",
     "output_type": "stream",
     "text": [
      "/usr/local/lib/python3.6/dist-packages/IPython/core/interactiveshell.py:3049: DtypeWarning: Columns (7,8,18,25) have mixed types. Specify dtype option on import or set low_memory=False.\n",
      "  interactivity=interactivity, compiler=compiler, result=result)\n"
     ]
    }
   ],
   "source": [
    "data=pd.read_csv('/home/susmitha/Downloads/Weather.csv')"
   ]
  },
  {
   "cell_type": "code",
   "execution_count": 4,
   "metadata": {},
   "outputs": [
    {
     "data": {
      "text/plain": [
       "(119040, 31)"
      ]
     },
     "execution_count": 4,
     "metadata": {},
     "output_type": "execute_result"
    }
   ],
   "source": [
    "data.shape"
   ]
  },
  {
   "cell_type": "code",
   "execution_count": 5,
   "metadata": {},
   "outputs": [
    {
     "data": {
      "text/plain": [
       "<bound method NDFrame.describe of           STA        Date  Precip  WindGustSpd    MaxTemp    MinTemp  \\\n",
       "0       10001    1942-7-1   1.016          NaN  25.555556  22.222222   \n",
       "1       10001    1942-7-2       0          NaN  28.888889  21.666667   \n",
       "2       10001    1942-7-3    2.54          NaN  26.111111  22.222222   \n",
       "3       10001    1942-7-4    2.54          NaN  26.666667  22.222222   \n",
       "4       10001    1942-7-5       0          NaN  26.666667  21.666667   \n",
       "5       10001    1942-7-6       0          NaN  26.666667  21.666667   \n",
       "6       10001    1942-7-7       T          NaN  28.333333  22.777778   \n",
       "7       10001    1942-7-8   3.556          NaN  26.666667  22.222222   \n",
       "8       10001    1942-7-9       T          NaN  27.222222  22.777778   \n",
       "9       10001   1942-7-10   3.556          NaN  25.555556  21.666667   \n",
       "10      10001   1942-7-11       0          NaN  25.555556  21.666667   \n",
       "11      10001   1942-7-12   0.508          NaN  24.444444  22.222222   \n",
       "12      10001   1942-7-13       0          NaN  26.111111  21.666667   \n",
       "13      10001   1942-7-14       0          NaN  26.111111  22.222222   \n",
       "14      10001   1942-7-15       0          NaN  25.555556  22.777778   \n",
       "15      10001   1942-7-16       T          NaN  26.111111  21.111111   \n",
       "16      10001   1942-7-17       T          NaN  28.333333  22.222222   \n",
       "17      10001   1942-7-18       T          NaN  26.666667  21.111111   \n",
       "18      10001   1942-7-19       0          NaN  27.777778  21.666667   \n",
       "19      10001   1942-7-20       0          NaN  26.111111  20.000000   \n",
       "20      10001   1942-7-21       T          NaN  24.444444  21.666667   \n",
       "21      10001   1942-7-22       T          NaN  24.444444  21.111111   \n",
       "22      10001   1942-7-23       0          NaN  26.666667  20.555556   \n",
       "23      10001   1942-7-24       0          NaN  27.222222  18.888889   \n",
       "24      10001   1942-7-25       0          NaN  27.222222  19.444444   \n",
       "25      10001   1942-7-26       0          NaN  25.555556  19.444444   \n",
       "26      10001   1942-7-27       0          NaN  25.555556  19.444444   \n",
       "27      10001   1942-7-28       0          NaN  26.666667  19.444444   \n",
       "28      10001   1942-7-29       0          NaN  26.666667  19.444444   \n",
       "29      10001   1942-7-30       0          NaN  27.222222  19.444444   \n",
       "...       ...         ...     ...          ...        ...        ...   \n",
       "119010  82506   1945-12-2  24.384          NaN  28.333333  18.888889   \n",
       "119011  82506   1945-12-3   0.762          NaN  27.777778  18.333333   \n",
       "119012  82506   1945-12-4  36.068          NaN  29.444444  17.777778   \n",
       "119013  82506   1945-12-5  12.446          NaN  21.111111  17.222222   \n",
       "119014  82506   1945-12-6       T          NaN  27.222222  17.777778   \n",
       "119015  82506   1945-12-7       0          NaN  27.222222  17.222222   \n",
       "119016  82506   1945-12-8   0.762          NaN  26.111111  19.444444   \n",
       "119017  82506   1945-12-9       0          NaN  30.555556  19.444444   \n",
       "119018  82506  1945-12-10       T          NaN  30.000000  19.444444   \n",
       "119019  82506  1945-12-11   0.254          NaN  28.888889  22.777778   \n",
       "119020  82506  1945-12-12       0          NaN  30.555556  22.222222   \n",
       "119021  82506  1945-12-13  19.304          NaN  32.222222  20.000000   \n",
       "119022  82506  1945-12-14       0          NaN  31.111111  20.555556   \n",
       "119023  82506  1945-12-15   0.762          NaN  30.555556  20.555556   \n",
       "119024  82506  1945-12-16       0          NaN  29.444444  21.666667   \n",
       "119025  82506  1945-12-17       0          NaN  28.888889  21.111111   \n",
       "119026  82506  1945-12-18  19.812          NaN  30.555556  19.444444   \n",
       "119027  82506  1945-12-19   10.16          NaN  25.555556  18.888889   \n",
       "119028  82506  1945-12-20       0          NaN  26.666667  17.777778   \n",
       "119029  82506  1945-12-21       0          NaN  28.888889  18.888889   \n",
       "119030  82506  1945-12-22       0          NaN  28.888889  17.222222   \n",
       "119031  82506  1945-12-23       T          NaN  28.333333  18.333333   \n",
       "119032  82506  1945-12-24       0          NaN  28.333333  20.000000   \n",
       "119033  82506  1945-12-25   0.508          NaN  28.888889  18.888889   \n",
       "119034  82506  1945-12-26       0          NaN  29.444444  18.888889   \n",
       "119035  82506  1945-12-27       0          NaN  28.333333  18.333333   \n",
       "119036  82506  1945-12-28   9.906          NaN  29.444444  18.333333   \n",
       "119037  82506  1945-12-29       0          NaN  28.333333  18.333333   \n",
       "119038  82506  1945-12-30       0          NaN  28.333333  18.333333   \n",
       "119039  82506  1945-12-31       0          NaN  29.444444  17.222222   \n",
       "\n",
       "         MeanTemp Snowfall PoorWeather  YR  ...  FB  FTI ITH  PGT  TSHDSBRSGF  \\\n",
       "0       23.888889        0         NaN  42  ... NaN  NaN NaN  NaN         NaN   \n",
       "1       25.555556        0         NaN  42  ... NaN  NaN NaN  NaN         NaN   \n",
       "2       24.444444        0         NaN  42  ... NaN  NaN NaN  NaN         NaN   \n",
       "3       24.444444        0         NaN  42  ... NaN  NaN NaN  NaN         NaN   \n",
       "4       24.444444        0         NaN  42  ... NaN  NaN NaN  NaN         NaN   \n",
       "5       24.444444        0         NaN  42  ... NaN  NaN NaN  NaN         NaN   \n",
       "6       25.555556        0         NaN  42  ... NaN  NaN NaN  NaN         NaN   \n",
       "7       24.444444        0         NaN  42  ... NaN  NaN NaN  NaN         NaN   \n",
       "8       25.000000        0         NaN  42  ... NaN  NaN NaN  NaN         NaN   \n",
       "9       23.333333        0         NaN  42  ... NaN  NaN NaN  NaN         NaN   \n",
       "10      23.333333        0         NaN  42  ... NaN  NaN NaN  NaN         NaN   \n",
       "11      23.333333        0         NaN  42  ... NaN  NaN NaN  NaN         NaN   \n",
       "12      23.888889        0         NaN  42  ... NaN  NaN NaN  NaN         NaN   \n",
       "13      24.444444        0         NaN  42  ... NaN  NaN NaN  NaN         NaN   \n",
       "14      24.444444        0         NaN  42  ... NaN  NaN NaN  NaN         NaN   \n",
       "15      23.333333        0         NaN  42  ... NaN  NaN NaN  NaN         NaN   \n",
       "16      25.555556        0         NaN  42  ... NaN  NaN NaN  NaN         NaN   \n",
       "17      23.888889        0         NaN  42  ... NaN  NaN NaN  NaN         NaN   \n",
       "18      24.444444        0         NaN  42  ... NaN  NaN NaN  NaN         NaN   \n",
       "19      23.333333        0         NaN  42  ... NaN  NaN NaN  NaN         NaN   \n",
       "20      23.333333        0         NaN  42  ... NaN  NaN NaN  NaN         NaN   \n",
       "21      22.777778        0         NaN  42  ... NaN  NaN NaN  NaN         NaN   \n",
       "22      23.333333        0         NaN  42  ... NaN  NaN NaN  NaN         NaN   \n",
       "23      23.333333        0         NaN  42  ... NaN  NaN NaN  NaN         NaN   \n",
       "24      23.333333        0         NaN  42  ... NaN  NaN NaN  NaN         NaN   \n",
       "25      22.222222        0         NaN  42  ... NaN  NaN NaN  NaN         NaN   \n",
       "26      22.777778        0         NaN  42  ... NaN  NaN NaN  NaN         NaN   \n",
       "27      23.333333        0         NaN  42  ... NaN  NaN NaN  NaN         NaN   \n",
       "28      23.333333        0         NaN  42  ... NaN  NaN NaN  NaN         NaN   \n",
       "29      23.333333        0         NaN  42  ... NaN  NaN NaN  NaN         NaN   \n",
       "...           ...      ...         ...  ..  ...  ..  ...  ..  ...         ...   \n",
       "119010  23.333333        0           1  45  ... NaN  NaN NaN  NaN           1   \n",
       "119011  23.333333        0           1  45  ... NaN  NaN NaN  NaN           1   \n",
       "119012  23.333333        0           1  45  ... NaN  NaN NaN  NaN           1   \n",
       "119013  18.888889        0           1  45  ... NaN  NaN NaN  NaN           1   \n",
       "119014  22.222222        0           1  45  ... NaN  NaN NaN  NaN           1   \n",
       "119015  22.222222        0         NaN  45  ... NaN  NaN NaN  NaN         NaN   \n",
       "119016  22.777778        0           1  45  ... NaN  NaN NaN  NaN           1   \n",
       "119017  25.000000        0         NaN  45  ... NaN  NaN NaN  NaN         NaN   \n",
       "119018  24.444444        0         NaN  45  ... NaN  NaN NaN  NaN         NaN   \n",
       "119019  25.555556        0           1  45  ... NaN  NaN NaN  NaN           1   \n",
       "119020  26.666667        0         NaN  45  ... NaN  NaN NaN  NaN         NaN   \n",
       "119021  26.111111        0           1  45  ... NaN  NaN NaN  NaN           1   \n",
       "119022  25.555556        0         NaN  45  ... NaN  NaN NaN  NaN         NaN   \n",
       "119023  25.555556        0           1  45  ... NaN  NaN NaN  NaN           1   \n",
       "119024  25.555556        0         NaN  45  ... NaN  NaN NaN  NaN         NaN   \n",
       "119025  25.000000        0         NaN  45  ... NaN  NaN NaN  NaN         NaN   \n",
       "119026  25.000000        0           1  45  ... NaN  NaN NaN  NaN           1   \n",
       "119027  22.222222        0           1  45  ... NaN  NaN NaN  NaN           1   \n",
       "119028  22.222222        0         NaN  45  ... NaN  NaN NaN  NaN         NaN   \n",
       "119029  23.888889        0         NaN  45  ... NaN  NaN NaN  NaN         NaN   \n",
       "119030  23.333333        0         NaN  45  ... NaN  NaN NaN  NaN         NaN   \n",
       "119031  23.333333        0           1  45  ... NaN  NaN NaN  NaN           1   \n",
       "119032  24.444444        0         NaN  45  ... NaN  NaN NaN  NaN         NaN   \n",
       "119033  23.888889        0           1  45  ... NaN  NaN NaN  NaN           1   \n",
       "119034  24.444444        0         NaN  45  ... NaN  NaN NaN  NaN         NaN   \n",
       "119035  23.333333        0         NaN  45  ... NaN  NaN NaN  NaN         NaN   \n",
       "119036  23.888889        0           1  45  ... NaN  NaN NaN  NaN           1   \n",
       "119037  23.333333        0           1  45  ... NaN  NaN NaN  NaN           1   \n",
       "119038  23.333333        0         NaN  45  ... NaN  NaN NaN  NaN         NaN   \n",
       "119039  23.333333        0         NaN  45  ... NaN  NaN NaN  NaN         NaN   \n",
       "\n",
       "        SD3  RHX  RHN RVG  WTE  \n",
       "0       NaN  NaN  NaN NaN  NaN  \n",
       "1       NaN  NaN  NaN NaN  NaN  \n",
       "2       NaN  NaN  NaN NaN  NaN  \n",
       "3       NaN  NaN  NaN NaN  NaN  \n",
       "4       NaN  NaN  NaN NaN  NaN  \n",
       "5       NaN  NaN  NaN NaN  NaN  \n",
       "6       NaN  NaN  NaN NaN  NaN  \n",
       "7       NaN  NaN  NaN NaN  NaN  \n",
       "8       NaN  NaN  NaN NaN  NaN  \n",
       "9       NaN  NaN  NaN NaN  NaN  \n",
       "10      NaN  NaN  NaN NaN  NaN  \n",
       "11      NaN  NaN  NaN NaN  NaN  \n",
       "12      NaN  NaN  NaN NaN  NaN  \n",
       "13      NaN  NaN  NaN NaN  NaN  \n",
       "14      NaN  NaN  NaN NaN  NaN  \n",
       "15      NaN  NaN  NaN NaN  NaN  \n",
       "16      NaN  NaN  NaN NaN  NaN  \n",
       "17      NaN  NaN  NaN NaN  NaN  \n",
       "18      NaN  NaN  NaN NaN  NaN  \n",
       "19      NaN  NaN  NaN NaN  NaN  \n",
       "20      NaN  NaN  NaN NaN  NaN  \n",
       "21      NaN  NaN  NaN NaN  NaN  \n",
       "22      NaN  NaN  NaN NaN  NaN  \n",
       "23      NaN  NaN  NaN NaN  NaN  \n",
       "24      NaN  NaN  NaN NaN  NaN  \n",
       "25      NaN  NaN  NaN NaN  NaN  \n",
       "26      NaN  NaN  NaN NaN  NaN  \n",
       "27      NaN  NaN  NaN NaN  NaN  \n",
       "28      NaN  NaN  NaN NaN  NaN  \n",
       "29      NaN  NaN  NaN NaN  NaN  \n",
       "...     ...  ...  ...  ..  ...  \n",
       "119010  NaN  NaN  NaN NaN  NaN  \n",
       "119011  NaN  NaN  NaN NaN  NaN  \n",
       "119012  NaN  NaN  NaN NaN  NaN  \n",
       "119013  NaN  NaN  NaN NaN  NaN  \n",
       "119014  NaN  NaN  NaN NaN  NaN  \n",
       "119015  NaN  NaN  NaN NaN  NaN  \n",
       "119016  NaN  NaN  NaN NaN  NaN  \n",
       "119017  NaN  NaN  NaN NaN  NaN  \n",
       "119018  NaN  NaN  NaN NaN  NaN  \n",
       "119019  NaN  NaN  NaN NaN  NaN  \n",
       "119020  NaN  NaN  NaN NaN  NaN  \n",
       "119021  NaN  NaN  NaN NaN  NaN  \n",
       "119022  NaN  NaN  NaN NaN  NaN  \n",
       "119023  NaN  NaN  NaN NaN  NaN  \n",
       "119024  NaN  NaN  NaN NaN  NaN  \n",
       "119025  NaN  NaN  NaN NaN  NaN  \n",
       "119026  NaN  NaN  NaN NaN  NaN  \n",
       "119027  NaN  NaN  NaN NaN  NaN  \n",
       "119028  NaN  NaN  NaN NaN  NaN  \n",
       "119029  NaN  NaN  NaN NaN  NaN  \n",
       "119030  NaN  NaN  NaN NaN  NaN  \n",
       "119031  NaN  NaN  NaN NaN  NaN  \n",
       "119032  NaN  NaN  NaN NaN  NaN  \n",
       "119033  NaN  NaN  NaN NaN  NaN  \n",
       "119034  NaN  NaN  NaN NaN  NaN  \n",
       "119035  NaN  NaN  NaN NaN  NaN  \n",
       "119036  NaN  NaN  NaN NaN  NaN  \n",
       "119037  NaN  NaN  NaN NaN  NaN  \n",
       "119038  NaN  NaN  NaN NaN  NaN  \n",
       "119039  NaN  NaN  NaN NaN  NaN  \n",
       "\n",
       "[119040 rows x 31 columns]>"
      ]
     },
     "execution_count": 5,
     "metadata": {},
     "output_type": "execute_result"
    }
   ],
   "source": [
    "data.describe"
   ]
  },
  {
   "cell_type": "code",
   "execution_count": 6,
   "metadata": {},
   "outputs": [
    {
     "data": {
      "image/png": "[encoded data removed]",
      "text/plain": [
       "<Figure size 432x288 with 1 Axes>"
      ]
     },
     "metadata": {
      "needs_background": "light"
     },
     "output_type": "display_data"
    }
   ],
   "source": [
    "data.plot(x='MinTemp', y='MaxTemp', style='o')\n",
    "plt.title('MinTemp vs MaxTemp')\n",
    "plt.xlabel('MinTemp')\n",
    "plt.ylabel('MaxTemp')\n",
    "plt.show()"
   ]
  },
  {
   "cell_type": "code",
   "execution_count": 7,
   "metadata": {},
   "outputs": [
    {
     "data": {
      "text/plain": [
       "<matplotlib.axes._subplots.AxesSubplot at 0x7fc883064828>"
      ]
     },
     "execution_count": 7,
     "metadata": {},
     "output_type": "execute_result"
    },
    {
     "data": {
      "image/png": "[encoded data removed]",
      "text/plain": [
       "<Figure size 1080x720 with 1 Axes>"
      ]
     },
     "metadata": {
      "needs_background": "light"
     },
     "output_type": "display_data"
    }
   ],
   "source": [
    "plt.figure(figsize=(15,10))\n",
    "plt.tight_layout()\n",
    "seabornInstance.distplot(data['MaxTemp'])"
   ]
  },
  {
   "cell_type": "code",
   "execution_count": 8,
   "metadata": {},
   "outputs": [],
   "source": [
    "X = data['MinTemp'].values.reshape(-1,1)\n",
    "y = data['MaxTemp'].values.reshape(-1,1)"
   ]
  },
  {
   "cell_type": "code",
   "execution_count": 9,
   "metadata": {},
   "outputs": [],
   "source": [
    "X_train, X_test, y_train, y_test = train_test_split(X, y, test_size=0.2, random_state=0)"
   ]
  },
  {
   "cell_type": "code",
   "execution_count": 10,
   "metadata": {},
   "outputs": [
    {
     "data": {
      "text/plain": [
       "LinearRegression(copy_X=True, fit_intercept=True, n_jobs=None, normalize=False)"
      ]
     },
     "execution_count": 10,
     "metadata": {},
     "output_type": "execute_result"
    }
   ],
   "source": [
    "regressor = LinearRegression()  \n",
    "regressor.fit(X_train, y_train) #training the algorithm"
   ]
  },
  {
   "cell_type": "code",
   "execution_count": 11,
   "metadata": {},
   "outputs": [
    {
     "name": "stdout",
     "output_type": "stream",
     "text": [
      "[10.66185201]\n",
      "[[0.92033997]]\n"
     ]
    }
   ],
   "source": [
    "#To retrieve the intercept:\n",
    "print(regressor.intercept_)\n",
    "#For retrieving the slope:\n",
    "print(regressor.coef_)"
   ]
  },
  {
   "cell_type": "code",
   "execution_count": 12,
   "metadata": {},
   "outputs": [],
   "source": [
    "y_pred = regressor.predict(X_test)"
   ]
  },
  {
   "cell_type": "code",
   "execution_count": 13,
   "metadata": {},
   "outputs": [],
   "source": [
    "df = pd.DataFrame({'Actual': y_test.flatten(), 'Predicted': y_pred.flatten()})"
   ]
  },
  {
   "cell_type": "code",
   "execution_count": 14,
   "metadata": {},
   "outputs": [
    {
     "data": {
      "text/html": [
       "<div>\n",
       "<style scoped>\n",
       "    .dataframe tbody tr th:only-of-type {\n",
       "        vertical-align: middle;\n",
       "    }\n",
       "\n",
       "    .dataframe tbody tr th {\n",
       "        vertical-align: top;\n",
       "    }\n",
       "\n",
       "    .dataframe thead th {\n",
       "        text-align: right;\n",
       "    }\n",
       "</style>\n",
       "<table border=\"1\" class=\"dataframe\">\n",
       "  <thead>\n",
       "    <tr style=\"text-align: right;\">\n",
       "      <th></th>\n",
       "      <th>Actual</th>\n",
       "      <th>Predicted</th>\n",
       "    </tr>\n",
       "  </thead>\n",
       "  <tbody>\n",
       "    <tr>\n",
       "      <th>0</th>\n",
       "      <td>28.888889</td>\n",
       "      <td>33.670351</td>\n",
       "    </tr>\n",
       "    <tr>\n",
       "      <th>1</th>\n",
       "      <td>31.111111</td>\n",
       "      <td>30.091251</td>\n",
       "    </tr>\n",
       "    <tr>\n",
       "      <th>2</th>\n",
       "      <td>27.222222</td>\n",
       "      <td>26.512151</td>\n",
       "    </tr>\n",
       "    <tr>\n",
       "      <th>3</th>\n",
       "      <td>28.888889</td>\n",
       "      <td>31.113851</td>\n",
       "    </tr>\n",
       "    <tr>\n",
       "      <th>4</th>\n",
       "      <td>23.333333</td>\n",
       "      <td>15.774852</td>\n",
       "    </tr>\n",
       "    <tr>\n",
       "      <th>5</th>\n",
       "      <td>37.222222</td>\n",
       "      <td>30.602551</td>\n",
       "    </tr>\n",
       "    <tr>\n",
       "      <th>6</th>\n",
       "      <td>22.222222</td>\n",
       "      <td>11.684452</td>\n",
       "    </tr>\n",
       "    <tr>\n",
       "      <th>7</th>\n",
       "      <td>35.555556</td>\n",
       "      <td>33.670351</td>\n",
       "    </tr>\n",
       "    <tr>\n",
       "      <th>8</th>\n",
       "      <td>30.555556</td>\n",
       "      <td>30.602551</td>\n",
       "    </tr>\n",
       "    <tr>\n",
       "      <th>9</th>\n",
       "      <td>28.888889</td>\n",
       "      <td>32.647751</td>\n",
       "    </tr>\n",
       "    <tr>\n",
       "      <th>10</th>\n",
       "      <td>24.444444</td>\n",
       "      <td>29.068651</td>\n",
       "    </tr>\n",
       "    <tr>\n",
       "      <th>11</th>\n",
       "      <td>22.777778</td>\n",
       "      <td>23.955652</td>\n",
       "    </tr>\n",
       "    <tr>\n",
       "      <th>12</th>\n",
       "      <td>30.555556</td>\n",
       "      <td>30.091251</td>\n",
       "    </tr>\n",
       "    <tr>\n",
       "      <th>13</th>\n",
       "      <td>26.111111</td>\n",
       "      <td>26.000851</td>\n",
       "    </tr>\n",
       "    <tr>\n",
       "      <th>14</th>\n",
       "      <td>27.222222</td>\n",
       "      <td>29.068651</td>\n",
       "    </tr>\n",
       "    <tr>\n",
       "      <th>15</th>\n",
       "      <td>30.555556</td>\n",
       "      <td>32.647751</td>\n",
       "    </tr>\n",
       "    <tr>\n",
       "      <th>16</th>\n",
       "      <td>10.555556</td>\n",
       "      <td>15.774852</td>\n",
       "    </tr>\n",
       "    <tr>\n",
       "      <th>17</th>\n",
       "      <td>32.222222</td>\n",
       "      <td>32.136451</td>\n",
       "    </tr>\n",
       "    <tr>\n",
       "      <th>18</th>\n",
       "      <td>29.444444</td>\n",
       "      <td>29.579951</td>\n",
       "    </tr>\n",
       "    <tr>\n",
       "      <th>19</th>\n",
       "      <td>23.333333</td>\n",
       "      <td>18.842652</td>\n",
       "    </tr>\n",
       "    <tr>\n",
       "      <th>20</th>\n",
       "      <td>30.555556</td>\n",
       "      <td>26.000851</td>\n",
       "    </tr>\n",
       "    <tr>\n",
       "      <th>21</th>\n",
       "      <td>43.333333</td>\n",
       "      <td>31.113851</td>\n",
       "    </tr>\n",
       "    <tr>\n",
       "      <th>22</th>\n",
       "      <td>27.222222</td>\n",
       "      <td>30.091251</td>\n",
       "    </tr>\n",
       "    <tr>\n",
       "      <th>23</th>\n",
       "      <td>33.333333</td>\n",
       "      <td>33.159051</td>\n",
       "    </tr>\n",
       "    <tr>\n",
       "      <th>24</th>\n",
       "      <td>31.111111</td>\n",
       "      <td>22.421752</td>\n",
       "    </tr>\n",
       "    <tr>\n",
       "      <th>25</th>\n",
       "      <td>30.000000</td>\n",
       "      <td>31.113851</td>\n",
       "    </tr>\n",
       "    <tr>\n",
       "      <th>26</th>\n",
       "      <td>33.333333</td>\n",
       "      <td>30.602551</td>\n",
       "    </tr>\n",
       "    <tr>\n",
       "      <th>27</th>\n",
       "      <td>31.111111</td>\n",
       "      <td>30.602551</td>\n",
       "    </tr>\n",
       "    <tr>\n",
       "      <th>28</th>\n",
       "      <td>33.333333</td>\n",
       "      <td>35.204251</td>\n",
       "    </tr>\n",
       "    <tr>\n",
       "      <th>29</th>\n",
       "      <td>36.111111</td>\n",
       "      <td>30.091251</td>\n",
       "    </tr>\n",
       "    <tr>\n",
       "      <th>...</th>\n",
       "      <td>...</td>\n",
       "      <td>...</td>\n",
       "    </tr>\n",
       "    <tr>\n",
       "      <th>23778</th>\n",
       "      <td>4.444444</td>\n",
       "      <td>9.639252</td>\n",
       "    </tr>\n",
       "    <tr>\n",
       "      <th>23779</th>\n",
       "      <td>31.111111</td>\n",
       "      <td>32.136451</td>\n",
       "    </tr>\n",
       "    <tr>\n",
       "      <th>23780</th>\n",
       "      <td>30.000000</td>\n",
       "      <td>32.136451</td>\n",
       "    </tr>\n",
       "    <tr>\n",
       "      <th>23781</th>\n",
       "      <td>34.444444</td>\n",
       "      <td>30.091251</td>\n",
       "    </tr>\n",
       "    <tr>\n",
       "      <th>23782</th>\n",
       "      <td>28.888889</td>\n",
       "      <td>32.647751</td>\n",
       "    </tr>\n",
       "    <tr>\n",
       "      <th>23783</th>\n",
       "      <td>32.222222</td>\n",
       "      <td>29.068651</td>\n",
       "    </tr>\n",
       "    <tr>\n",
       "      <th>23784</th>\n",
       "      <td>25.000000</td>\n",
       "      <td>15.774852</td>\n",
       "    </tr>\n",
       "    <tr>\n",
       "      <th>23785</th>\n",
       "      <td>26.666667</td>\n",
       "      <td>30.091251</td>\n",
       "    </tr>\n",
       "    <tr>\n",
       "      <th>23786</th>\n",
       "      <td>35.000000</td>\n",
       "      <td>32.136451</td>\n",
       "    </tr>\n",
       "    <tr>\n",
       "      <th>23787</th>\n",
       "      <td>15.000000</td>\n",
       "      <td>12.195752</td>\n",
       "    </tr>\n",
       "    <tr>\n",
       "      <th>23788</th>\n",
       "      <td>19.444444</td>\n",
       "      <td>22.421752</td>\n",
       "    </tr>\n",
       "    <tr>\n",
       "      <th>23789</th>\n",
       "      <td>15.000000</td>\n",
       "      <td>19.865252</td>\n",
       "    </tr>\n",
       "    <tr>\n",
       "      <th>23790</th>\n",
       "      <td>33.333333</td>\n",
       "      <td>25.489551</td>\n",
       "    </tr>\n",
       "    <tr>\n",
       "      <th>23791</th>\n",
       "      <td>27.777778</td>\n",
       "      <td>26.000851</td>\n",
       "    </tr>\n",
       "    <tr>\n",
       "      <th>23792</th>\n",
       "      <td>31.666667</td>\n",
       "      <td>30.091251</td>\n",
       "    </tr>\n",
       "    <tr>\n",
       "      <th>23793</th>\n",
       "      <td>31.666667</td>\n",
       "      <td>31.625151</td>\n",
       "    </tr>\n",
       "    <tr>\n",
       "      <th>23794</th>\n",
       "      <td>29.444444</td>\n",
       "      <td>31.113851</td>\n",
       "    </tr>\n",
       "    <tr>\n",
       "      <th>23795</th>\n",
       "      <td>29.444444</td>\n",
       "      <td>33.670351</td>\n",
       "    </tr>\n",
       "    <tr>\n",
       "      <th>23796</th>\n",
       "      <td>16.666667</td>\n",
       "      <td>17.820052</td>\n",
       "    </tr>\n",
       "    <tr>\n",
       "      <th>23797</th>\n",
       "      <td>20.000000</td>\n",
       "      <td>21.399152</td>\n",
       "    </tr>\n",
       "    <tr>\n",
       "      <th>23798</th>\n",
       "      <td>28.888889</td>\n",
       "      <td>32.136451</td>\n",
       "    </tr>\n",
       "    <tr>\n",
       "      <th>23799</th>\n",
       "      <td>31.111111</td>\n",
       "      <td>30.091251</td>\n",
       "    </tr>\n",
       "    <tr>\n",
       "      <th>23800</th>\n",
       "      <td>44.444444</td>\n",
       "      <td>35.715551</td>\n",
       "    </tr>\n",
       "    <tr>\n",
       "      <th>23801</th>\n",
       "      <td>36.666667</td>\n",
       "      <td>36.226851</td>\n",
       "    </tr>\n",
       "    <tr>\n",
       "      <th>23802</th>\n",
       "      <td>29.444444</td>\n",
       "      <td>33.159051</td>\n",
       "    </tr>\n",
       "    <tr>\n",
       "      <th>23803</th>\n",
       "      <td>32.777778</td>\n",
       "      <td>32.136451</td>\n",
       "    </tr>\n",
       "    <tr>\n",
       "      <th>23804</th>\n",
       "      <td>32.222222</td>\n",
       "      <td>29.068651</td>\n",
       "    </tr>\n",
       "    <tr>\n",
       "      <th>23805</th>\n",
       "      <td>31.111111</td>\n",
       "      <td>32.647751</td>\n",
       "    </tr>\n",
       "    <tr>\n",
       "      <th>23806</th>\n",
       "      <td>31.111111</td>\n",
       "      <td>30.602551</td>\n",
       "    </tr>\n",
       "    <tr>\n",
       "      <th>23807</th>\n",
       "      <td>36.666667</td>\n",
       "      <td>31.625151</td>\n",
       "    </tr>\n",
       "  </tbody>\n",
       "</table>\n",
       "<p>23808 rows × 2 columns</p>\n",
       "</div>"
      ],
      "text/plain": [
       "          Actual  Predicted\n",
       "0      28.888889  33.670351\n",
       "1      31.111111  30.091251\n",
       "2      27.222222  26.512151\n",
       "3      28.888889  31.113851\n",
       "4      23.333333  15.774852\n",
       "5      37.222222  30.602551\n",
       "6      22.222222  11.684452\n",
       "7      35.555556  33.670351\n",
       "8      30.555556  30.602551\n",
       "9      28.888889  32.647751\n",
       "10     24.444444  29.068651\n",
       "11     22.777778  23.955652\n",
       "12     30.555556  30.091251\n",
       "13     26.111111  26.000851\n",
       "14     27.222222  29.068651\n",
       "15     30.555556  32.647751\n",
       "16     10.555556  15.774852\n",
       "17     32.222222  32.136451\n",
       "18     29.444444  29.579951\n",
       "19     23.333333  18.842652\n",
       "20     30.555556  26.000851\n",
       "21     43.333333  31.113851\n",
       "22     27.222222  30.091251\n",
       "23     33.333333  33.159051\n",
       "24     31.111111  22.421752\n",
       "25     30.000000  31.113851\n",
       "26     33.333333  30.602551\n",
       "27     31.111111  30.602551\n",
       "28     33.333333  35.204251\n",
       "29     36.111111  30.091251\n",
       "...          ...        ...\n",
       "23778   4.444444   9.639252\n",
       "23779  31.111111  32.136451\n",
       "23780  30.000000  32.136451\n",
       "23781  34.444444  30.091251\n",
       "23782  28.888889  32.647751\n",
       "23783  32.222222  29.068651\n",
       "23784  25.000000  15.774852\n",
       "23785  26.666667  30.091251\n",
       "23786  35.000000  32.136451\n",
       "23787  15.000000  12.195752\n",
       "23788  19.444444  22.421752\n",
       "23789  15.000000  19.865252\n",
       "23790  33.333333  25.489551\n",
       "23791  27.777778  26.000851\n",
       "23792  31.666667  30.091251\n",
       "23793  31.666667  31.625151\n",
       "23794  29.444444  31.113851\n",
       "23795  29.444444  33.670351\n",
       "23796  16.666667  17.820052\n",
       "23797  20.000000  21.399152\n",
       "23798  28.888889  32.136451\n",
       "23799  31.111111  30.091251\n",
       "23800  44.444444  35.715551\n",
       "23801  36.666667  36.226851\n",
       "23802  29.444444  33.159051\n",
       "23803  32.777778  32.136451\n",
       "23804  32.222222  29.068651\n",
       "23805  31.111111  32.647751\n",
       "23806  31.111111  30.602551\n",
       "23807  36.666667  31.625151\n",
       "\n",
       "[23808 rows x 2 columns]"
      ]
     },
     "execution_count": 14,
     "metadata": {},
     "output_type": "execute_result"
    }
   ],
   "source": [
    "df"
   ]
  },
  {
   "cell_type": "code",
   "execution_count": 15,
   "metadata": {},
   "outputs": [
    {
     "data": {
      "image/png": "[encoded data removed]",
      "text/plain": [
       "<Figure size 1152x720 with 1 Axes>"
      ]
     },
     "metadata": {
      "needs_background": "light"
     },
     "output_type": "display_data"
    }
   ],
   "source": [
    "df1 = df.head(25)\n",
    "df1.plot(kind='bar',figsize=(16,10))\n",
    "plt.grid(which='major', linestyle='-', linewidth='0.5', color='green')\n",
    "plt.grid(which='minor', linestyle=':', linewidth='0.5', color='black')\n",
    "plt.show()"
   ]
  },
  {
   "cell_type": "code",
   "execution_count": 16,
   "metadata": {},
   "outputs": [
    {
     "data": {
      "image/png": "[encoded data removed]",
      "text/plain": [
       "<Figure size 432x288 with 1 Axes>"
      ]
     },
     "metadata": {
      "needs_background": "light"
     },
     "output_type": "display_data"
    }
   ],
   "source": [
    "plt.scatter(X_test, y_test,  color='gray')\n",
    "plt.plot(X_test, y_pred, color='red', linewidth=2)\n",
    "plt.show()"
   ]
  },
  {
   "cell_type": "code",
   "execution_count": 17,
   "metadata": {},
   "outputs": [
    {
     "name": "stdout",
     "output_type": "stream",
     "text": [
      "Mean Absolute Error: 3.1993291783785445\n",
      "Mean Squared Error: 17.631568097568472\n",
      "Root Mean Squared Error: 4.198996082109208\n"
     ]
    }
   ],
   "source": [
    "print('Mean Absolute Error:', metrics.mean_absolute_error(y_test, y_pred))  \n",
    "print('Mean Squared Error:', metrics.mean_squared_error(y_test, y_pred))  \n",
    "print('Root Mean Squared Error:', np.sqrt(metrics.mean_squared_error(y_test, y_pred)))"
   ]
  },
  {
   "cell_type": "code",
   "execution_count": 18,
   "metadata": {},
   "outputs": [],
   "source": [
    "X[23809]=32"
   ]
  },
  {
   "cell_type": "code",
   "execution_count": 22,
   "metadata": {},
   "outputs": [
    {
     "data": {
      "text/plain": [
       "array([31.62515124])"
      ]
     },
     "execution_count": 22,
     "metadata": {},
     "output_type": "execute_result"
    }
   ],
   "source": [
    "y_pred[23807]"
   ]
  },
  {
   "cell_type": "code",
   "execution_count": null,
   "metadata": {},
   "outputs": [],
   "source": []
  }
 ],
 "metadata": {
  "kernelspec": {
   "display_name": "Python 3",
   "language": "python",
   "name": "python3"
  },
  "language_info": {
   "codemirror_mode": {
    "name": "ipython",
    "version": 3
   },
   "file_extension": ".py",
   "mimetype": "text/x-python",
   "name": "python",
   "nbconvert_exporter": "python",
   "pygments_lexer": "ipython3",
   "version": "3.6.7"
  }
 },
 "nbformat": 4,
 "nbformat_minor": 2
}
